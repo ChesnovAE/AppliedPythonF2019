{
 "cells": [
  {
   "cell_type": "code",
   "execution_count": null,
   "metadata": {},
   "outputs": [],
   "source": [
    "#!/usr/bin/env python\n",
    "# coding: utf-8\n",
    "\n",
    "\n",
    "import os\n",
    "from multiprocessing import Process, Manager\n",
    "import time\n",
    "import signal\n",
    "\n",
    "class TimeoutError(Exception):\n",
    "    pass\n",
    "\n",
    "class Task:\n",
    "    \"\"\"\n",
    "    Задача, которую надо выполнить.\n",
    "    В идеале, должно быть реализовано на достаточном уровне абстракции,\n",
    "    чтобы можно было выполнять \"неоднотипные\" задачи\n",
    "    \"\"\"\n",
    "    def __init__(self, function, *args, **kwargs):\n",
    "        \"\"\"\n",
    "        Пофантазируйте, как лучше инициализировать\n",
    "        \"\"\"\n",
    "        self._function = function\n",
    "        self._args = args\n",
    "        self._kwargs = kwargs\n",
    "\n",
    "    def perform(self):\n",
    "        \"\"\"\n",
    "        Старт выполнения задачи\n",
    "        \"\"\"\n",
    "        return self._function(*self._args, **self._kwargs)\n",
    "\n",
    "\n",
    "class TaskProcessor(Process):\n",
    "    \"\"\"\n",
    "    Воркер-процесс. Достает из очереди тасок таску и делает ее\n",
    "    \"\"\"\n",
    "    def __init__(self, tasks_queue, result_queue, is_returnable, timeout):\n",
    "        \"\"\"\n",
    "        :param tasks_queue: Manager.Queue с объектами класса Task\n",
    "        \"\"\"\n",
    "        super(TaskProcessor, self).__init__()\n",
    "        self._tasks_queue = tasks_queue\n",
    "        self._result_queue = result_queue\n",
    "        self._is_returnable = is_returnable\n",
    "        self._time = time.time()\n",
    "        self._timeout = timeout\n",
    "\n",
    "    def run(self):\n",
    "        \"\"\"\n",
    "        Старт работы воркера\n",
    "        \"\"\"\n",
    "    \n",
    "        def _timeout(signum, frame):\n",
    "            raise TimeoutError\n",
    "\n",
    "        while True:\n",
    "            result = self._tasks_queue.get()\n",
    "            if self._timeout:\n",
    "                signal.signal(signal.SIGALRM, _timeout)\n",
    "                signal.setitimer(signal.ITIMER_REAL, self._timeout)\n",
    "            try:\n",
    "                result = result.perform()\n",
    "                print(f'The process {os.getpid()} complete task')\n",
    "                if self._is_returnable:\n",
    "                    self._result_queue.put(result)\n",
    "            except TimeoutError:\n",
    "                print(f'The process {os.getpid()} doesn\\'t complete task' )\n",
    "                break\n",
    "            if self._timeout:\n",
    "                signal.setitimer(signal.ITIMER_REAL, 0)\n",
    "\n",
    "\n",
    "class TaskManager(Process):\n",
    "    \"\"\"\n",
    "    Мастер-процесс, который управляет воркерами\n",
    "    \"\"\"\n",
    "    def __init__(self, tasks_queue, result_queue, n_workers, timeout=None, is_returnable=False):\n",
    "        \"\"\"\n",
    "        :param tasks_queue: Manager.Queue с объектами класса Task\n",
    "        :param n_workers: кол-во воркеров\n",
    "        :param timeout: таймаут в секундах, воркер не может работать дольше, чем timeout секунд\n",
    "        \"\"\"\n",
    "        super(TaskManager, self).__init__()\n",
    "        self._tasks_queue = tasks_queue\n",
    "        self._result_queue = result_queue\n",
    "        self._n_workers = n_workers\n",
    "        self._timeout = timeout\n",
    "        self._is_returnable = is_returnable\n",
    "        \n",
    "        self._list_workers = []\n",
    "\n",
    "    def run(self):\n",
    "        \"\"\"\n",
    "        Запускайте бычка! (с)\n",
    "        \"\"\"\n",
    "        while True:\n",
    "            while len(self._list_workers) != self._n_workers:\n",
    "                worker = TaskProcessor(self._tasks_queue, self._result_queue, self._is_returnable, self._timeout)\n",
    "                self._list_workers.append(worker)\n",
    "                worker.start()\n",
    "                print(f'Boss create new process {worker.pid}')\n",
    "            for i, process in enumerate(self._list_workers):\n",
    "                if not(process.is_alive()):\n",
    "                    print(f'Boss terminate process {process.pid}')\n",
    "                    process.terminate()\n",
    "                    self._list_workers.pop(i)"
   ]
  },
  {
   "cell_type": "code",
   "execution_count": null,
   "metadata": {},
   "outputs": [],
   "source": [
    "def f1(a, b):\n",
    "    return a + b\n",
    "def f2(a, b):\n",
    "    return a - b\n",
    "def f3(a, b):\n",
    "    return a * b\n",
    "try:\n",
    "    import wget\n",
    "    def f4(url):\n",
    "        filename = wget.download(url)\n",
    "except ImportError:\n",
    "    print('Установи pywget')\n",
    "def f5():\n",
    "    time.sleep(10)\n",
    "    return"
   ]
  },
  {
   "cell_type": "code",
   "execution_count": null,
   "metadata": {},
   "outputs": [],
   "source": [
    "m = Manager()\n",
    "tq = m.Queue()\n",
    "rq = m.Queue()\n",
    "COUNT_WORKERS = 2"
   ]
  },
  {
   "cell_type": "code",
   "execution_count": null,
   "metadata": {},
   "outputs": [],
   "source": [
    "tp = TaskManager(tq, rq, COUNT_WORKERS, timeout=1, is_returnable=True)"
   ]
  },
  {
   "cell_type": "code",
   "execution_count": null,
   "metadata": {},
   "outputs": [],
   "source": [
    "#%%time\n",
    "tp.start()"
   ]
  },
  {
   "cell_type": "code",
   "execution_count": null,
   "metadata": {},
   "outputs": [],
   "source": [
    "# Очередь сначала пустая\n",
    "# Easy task + download image\n",
    "tq.put(Task(f1, 1, 3))\n",
    "tq.put(Task(f4, 'http://memesmix.net/media/created/xqkrso.jpg'))"
   ]
  },
  {
   "cell_type": "code",
   "execution_count": null,
   "metadata": {},
   "outputs": [],
   "source": [
    "# Task working too long\n",
    "tq.put(Task(f5))"
   ]
  },
  {
   "cell_type": "code",
   "execution_count": null,
   "metadata": {},
   "outputs": [],
   "source": [
    "# Again the simple task\n",
    "tq.put(Task(f3, 3, 3))\n",
    "tq.put(Task(f2, 10, 5))"
   ]
  },
  {
   "cell_type": "code",
   "execution_count": null,
   "metadata": {},
   "outputs": [],
   "source": []
  }
 ],
 "metadata": {
  "kernelspec": {
   "display_name": "Python 3",
   "language": "python",
   "name": "python3"
  },
  "language_info": {
   "codemirror_mode": {
    "name": "ipython",
    "version": 3
   },
   "file_extension": ".py",
   "mimetype": "text/x-python",
   "name": "python",
   "nbconvert_exporter": "python",
   "pygments_lexer": "ipython3",
   "version": "3.6.7"
  }
 },
 "nbformat": 4,
 "nbformat_minor": 2
}
