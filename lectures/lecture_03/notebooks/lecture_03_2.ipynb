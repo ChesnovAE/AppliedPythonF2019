{
 "cells": [
  {
   "cell_type": "markdown",
   "metadata": {},
   "source": [
    "# Super - это супер"
   ]
  },
  {
   "cell_type": "code",
   "execution_count": 1,
   "metadata": {},
   "outputs": [
    {
     "name": "stdout",
     "output_type": "stream",
     "text": [
      "8\n",
      "1\n"
     ]
    }
   ],
   "source": [
    "class BasicCalculator:\n",
    "    \n",
    "    def plus(self, a, b):\n",
    "        return a + b\n",
    "    \n",
    "    def minus(self, a, b):\n",
    "        return a - b\n",
    "\n",
    "basic_calc = BasicCalculator()\n",
    "print(basic_calc.plus(3, 5))\n",
    "print(basic_calc.minus(5, 4))"
   ]
  },
  {
   "cell_type": "code",
   "execution_count": 2,
   "metadata": {},
   "outputs": [
    {
     "name": "stdout",
     "output_type": "stream",
     "text": [
      "8\n",
      "1\n",
      "9\n"
     ]
    }
   ],
   "source": [
    "class AdvancedCalculator(BasicCalculator):\n",
    "    \n",
    "    def mult(self, a, b):\n",
    "        t = 0\n",
    "        for _ in range(b):\n",
    "            t = super().plus(t, a)\n",
    "        return t\n",
    "\n",
    "advanced_calc = AdvancedCalculator()\n",
    "print(advanced_calc.plus(3, 5))\n",
    "print(advanced_calc.minus(5, 4))\n",
    "print(advanced_calc.mult(3, 3))"
   ]
  },
  {
   "cell_type": "code",
   "execution_count": 8,
   "metadata": {},
   "outputs": [
    {
     "name": "stdout",
     "output_type": "stream",
     "text": [
      "Help on AdvancedCalculator in module __main__ object:\n",
      "\n",
      "class AdvancedCalculator(BasicCalculator)\n",
      " |  Method resolution order:\n",
      " |      AdvancedCalculator\n",
      " |      BasicCalculator\n",
      " |      builtins.object\n",
      " |  \n",
      " |  Methods defined here:\n",
      " |  \n",
      " |  mult(self, a, b)\n",
      " |  \n",
      " |  ----------------------------------------------------------------------\n",
      " |  Methods inherited from BasicCalculator:\n",
      " |  \n",
      " |  minus(self, a, b)\n",
      " |  \n",
      " |  plus(self, a, b)\n",
      " |  \n",
      " |  ----------------------------------------------------------------------\n",
      " |  Data descriptors inherited from BasicCalculator:\n",
      " |  \n",
      " |  __dict__\n",
      " |      dictionary for instance variables (if defined)\n",
      " |  \n",
      " |  __weakref__\n",
      " |      list of weak references to the object (if defined)\n",
      "\n"
     ]
    }
   ],
   "source": [
    "help(advanced_calc)"
   ]
  },
  {
   "cell_type": "code",
   "execution_count": 13,
   "metadata": {},
   "outputs": [
    {
     "name": "stdout",
     "output_type": "stream",
     "text": [
      "Jonny eats\n"
     ]
    }
   ],
   "source": [
    "class Adam:\n",
    "    def eat(self):\n",
    "        print(\"Adam eats\")\n",
    "        \n",
    "class Eva:\n",
    "    def eat(self):\n",
    "        print(\"Eva eats\")\n",
    "        \n",
    "class MotherOfMother(Adam, Eva):\n",
    "    def eat(self):\n",
    "        print(\"MotherOfMother eats\")\n",
    "        \n",
    "class FatherOfMother(Adam, Eva):\n",
    "    def eat(self):\n",
    "        print(\"FatherOfMother eats\")\n",
    "        \n",
    "class MotherOfFather(Adam, Eva):\n",
    "    def eat(self):\n",
    "        print(\"MotherOfFather eats\")\n",
    "        \n",
    "class FatherOfFather(Adam, Eva):\n",
    "    def eat(self):\n",
    "        print(\"FatherOfFather eats\")\n",
    "        \n",
    "class Mother(MotherOfMother, FatherOfMother):\n",
    "    def eat(self):\n",
    "        print(\"Mother eats\")\n",
    "        \n",
    "class Father(MotherOfFather, FatherOfFather):\n",
    "    def eat(self):\n",
    "        print(\"Father eats\")\n",
    "        \n",
    "class Jonny(Mother, Father):\n",
    "    def eat(self):\n",
    "        print(\"Jonny eats\")\n",
    "        \n",
    "jonny = Jonny()\n",
    "jonny.eat()"
   ]
  },
  {
   "cell_type": "code",
   "execution_count": 14,
   "metadata": {},
   "outputs": [
    {
     "name": "stdout",
     "output_type": "stream",
     "text": [
      "Mother eats\n"
     ]
    }
   ],
   "source": [
    "class Jonny(Mother, Father):\n",
    "    pass\n",
    "jonny = Jonny()\n",
    "jonny.eat()"
   ]
  },
  {
   "cell_type": "code",
   "execution_count": 6,
   "metadata": {},
   "outputs": [
    {
     "name": "stdout",
     "output_type": "stream",
     "text": [
      "Help on Jonny in module __main__ object:\n",
      "\n",
      "class Jonny(Mother, Father)\n",
      " |  Method resolution order:\n",
      " |      Jonny\n",
      " |      Mother\n",
      " |      MotherOfMother\n",
      " |      FatherOfMother\n",
      " |      Father\n",
      " |      MotherOfFather\n",
      " |      FatherOfFather\n",
      " |      Adam\n",
      " |      Eva\n",
      " |      builtins.object\n",
      " |  \n",
      " |  Methods inherited from Mother:\n",
      " |  \n",
      " |  eat(self)\n",
      " |  \n",
      " |  ----------------------------------------------------------------------\n",
      " |  Data descriptors inherited from Adam:\n",
      " |  \n",
      " |  __dict__\n",
      " |      dictionary for instance variables (if defined)\n",
      " |  \n",
      " |  __weakref__\n",
      " |      list of weak references to the object (if defined)\n",
      "\n"
     ]
    }
   ],
   "source": [
    "help(jonny)"
   ]
  },
  {
   "cell_type": "code",
   "execution_count": 7,
   "metadata": {},
   "outputs": [
    {
     "name": "stdout",
     "output_type": "stream",
     "text": [
      "Help on Mother in module __main__ object:\n",
      "\n",
      "class Mother(MotherOfMother, FatherOfMother)\n",
      " |  Method resolution order:\n",
      " |      Mother\n",
      " |      MotherOfMother\n",
      " |      FatherOfMother\n",
      " |      Adam\n",
      " |      Eva\n",
      " |      builtins.object\n",
      " |  \n",
      " |  Methods defined here:\n",
      " |  \n",
      " |  eat(self)\n",
      " |  \n",
      " |  ----------------------------------------------------------------------\n",
      " |  Data descriptors inherited from Adam:\n",
      " |  \n",
      " |  __dict__\n",
      " |      dictionary for instance variables (if defined)\n",
      " |  \n",
      " |  __weakref__\n",
      " |      list of weak references to the object (if defined)\n",
      "\n"
     ]
    }
   ],
   "source": [
    "mother = Mother()\n",
    "help(mother)"
   ]
  },
  {
   "cell_type": "markdown",
   "metadata": {},
   "source": [
    "## Хорошо, вспомнили. Посмотрим другой пример"
   ]
  },
  {
   "cell_type": "code",
   "execution_count": 15,
   "metadata": {},
   "outputs": [
    {
     "name": "stdout",
     "output_type": "stream",
     "text": [
      "И так сойдет\n"
     ]
    }
   ],
   "source": [
    "class Student:\n",
    "    def prepare_for_exam(self):\n",
    "        print(\"И так сойдет\")\n",
    "                \n",
    "class SessionStudent(Student):\n",
    "    def pass_exam(self):\n",
    "        super().prepare_for_exam()\n",
    "        \n",
    "student = SessionStudent()\n",
    "student.pass_exam()"
   ]
  },
  {
   "cell_type": "code",
   "execution_count": 16,
   "metadata": {},
   "outputs": [
    {
     "name": "stdout",
     "output_type": "stream",
     "text": [
      "Ботал 2 недели\n"
     ]
    }
   ],
   "source": [
    "class TwoWeeksPreparation(Student):\n",
    "    def prepare_for_exam(self):\n",
    "        print(\"Ботал 2 недели\")\n",
    "        \n",
    "class PreparedStudent(SessionStudent, TwoWeeksPreparation):\n",
    "    pass\n",
    "\n",
    "prepared_student = PreparedStudent()\n",
    "prepared_student.pass_exam()  "
   ]
  },
  {
   "cell_type": "code",
   "execution_count": 17,
   "metadata": {},
   "outputs": [],
   "source": [
    "class Robot:\n",
    "    def fetch(self):\n",
    "        print(\"Physical movement! Fetching\")\n",
    "    def move_up(self):\n",
    "        print(\"Physical movement! Moving up\")\n",
    "    def move_down(self):\n",
    "        print(\"Physical movement! Moving down\")\n",
    "    def move_right(self):\n",
    "        print(\"Physical movement! Moving right\")\n",
    "    def move_left(self):\n",
    "        print(\"Physical movement! Moving left\")\n",
    "        \n",
    "class CleaningRobot(Robot):\n",
    "    def clean(self):\n",
    "        super().fetch()\n",
    "        for i in range(10):\n",
    "            super().move_up()\n",
    "            super().move_down()\n",
    "            super().move_right()\n",
    "            super().move_left()\n",
    "        print(\"End cleaning\")\n",
    "\n",
    "class MockRobot(Robot):\n",
    "    def __init__(self):\n",
    "        self.actions = []\n",
    "    def move_up(self):\n",
    "        self.actions.append(\"Up!\")\n",
    "    def move_down(self):\n",
    "        self.actions.append(\"Down!\")\n",
    "    def move_right(self):\n",
    "        self.actions.append(\"Right!\")\n",
    "    def move_left(self):\n",
    "        self.actions.append(\"Left!\")\n",
    "    def fetch(self):\n",
    "        self.actions.append(\"Fetch!\")\n",
    "        \n",
    "class MockedCleaningBot(CleaningRobot, MockRobot):\n",
    "    pass"
   ]
  },
  {
   "cell_type": "code",
   "execution_count": 18,
   "metadata": {},
   "outputs": [],
   "source": [
    "mocked_robot = MockedCleaningBot()"
   ]
  },
  {
   "cell_type": "code",
   "execution_count": 19,
   "metadata": {},
   "outputs": [
    {
     "name": "stdout",
     "output_type": "stream",
     "text": [
      "End cleaning\n"
     ]
    }
   ],
   "source": [
    "mocked_robot.clean()"
   ]
  },
  {
   "cell_type": "code",
   "execution_count": 20,
   "metadata": {},
   "outputs": [
    {
     "data": {
      "text/plain": [
       "['Fetch!',\n",
       " 'Up!',\n",
       " 'Down!',\n",
       " 'Right!',\n",
       " 'Left!',\n",
       " 'Up!',\n",
       " 'Down!',\n",
       " 'Right!',\n",
       " 'Left!',\n",
       " 'Up!',\n",
       " 'Down!',\n",
       " 'Right!',\n",
       " 'Left!',\n",
       " 'Up!',\n",
       " 'Down!',\n",
       " 'Right!',\n",
       " 'Left!',\n",
       " 'Up!',\n",
       " 'Down!',\n",
       " 'Right!',\n",
       " 'Left!',\n",
       " 'Up!',\n",
       " 'Down!',\n",
       " 'Right!',\n",
       " 'Left!',\n",
       " 'Up!',\n",
       " 'Down!',\n",
       " 'Right!',\n",
       " 'Left!',\n",
       " 'Up!',\n",
       " 'Down!',\n",
       " 'Right!',\n",
       " 'Left!',\n",
       " 'Up!',\n",
       " 'Down!',\n",
       " 'Right!',\n",
       " 'Left!',\n",
       " 'Up!',\n",
       " 'Down!',\n",
       " 'Right!',\n",
       " 'Left!']"
      ]
     },
     "execution_count": 20,
     "metadata": {},
     "output_type": "execute_result"
    }
   ],
   "source": [
    "mocked_robot.actions"
   ]
  },
  {
   "cell_type": "code",
   "execution_count": 29,
   "metadata": {},
   "outputs": [
    {
     "name": "stdout",
     "output_type": "stream",
     "text": [
      "Ботал 2 недели\n",
      "told my groupmate\n"
     ]
    }
   ],
   "source": [
    "#TODO Создайте тестовый класс студента (подготовленного!), который отвечает экзамен товарищу\n",
    "#По команде prepare_exam должно выводиться \"Рассказал товарищу\", должен наследовать от PreparedStudent\n",
    "\n",
    "class TestStudent(PreparedStudent):\n",
    "    def prepare_exam(self):\n",
    "        super().prepare_for_exam()\n",
    "        print(\"told my groupmate\")\n",
    "        \n",
    "st = TestStudent()\n",
    "st.prepare_exam()"
   ]
  },
  {
   "cell_type": "markdown",
   "metadata": {},
   "source": [
    "# Итераторы"
   ]
  },
  {
   "cell_type": "code",
   "execution_count": 30,
   "metadata": {},
   "outputs": [
    {
     "name": "stdout",
     "output_type": "stream",
     "text": [
      "1\n",
      "1\n",
      "1\n"
     ]
    },
    {
     "ename": "StopIteration",
     "evalue": "",
     "output_type": "error",
     "traceback": [
      "\u001b[0;31m---------------------------------------------------------------------------\u001b[0m",
      "\u001b[0;31mStopIteration\u001b[0m                             Traceback (most recent call last)",
      "\u001b[0;32m<ipython-input-30-0727ab3548f3>\u001b[0m in \u001b[0;36m<module>\u001b[0;34m()\u001b[0m\n\u001b[1;32m     15\u001b[0m \u001b[0mprint\u001b[0m\u001b[0;34m(\u001b[0m\u001b[0mnext\u001b[0m\u001b[0;34m(\u001b[0m\u001b[0ms_iter1\u001b[0m\u001b[0;34m)\u001b[0m\u001b[0;34m)\u001b[0m\u001b[0;34m\u001b[0m\u001b[0m\n\u001b[1;32m     16\u001b[0m \u001b[0mprint\u001b[0m\u001b[0;34m(\u001b[0m\u001b[0mnext\u001b[0m\u001b[0;34m(\u001b[0m\u001b[0ms_iter1\u001b[0m\u001b[0;34m)\u001b[0m\u001b[0;34m)\u001b[0m\u001b[0;34m\u001b[0m\u001b[0m\n\u001b[0;32m---> 17\u001b[0;31m \u001b[0mprint\u001b[0m\u001b[0;34m(\u001b[0m\u001b[0mnext\u001b[0m\u001b[0;34m(\u001b[0m\u001b[0ms_iter1\u001b[0m\u001b[0;34m)\u001b[0m\u001b[0;34m)\u001b[0m\u001b[0;34m\u001b[0m\u001b[0m\n\u001b[0m",
      "\u001b[0;32m<ipython-input-30-0727ab3548f3>\u001b[0m in \u001b[0;36m__next__\u001b[0;34m(self)\u001b[0m\n\u001b[1;32m      9\u001b[0m             \u001b[0;32mreturn\u001b[0m \u001b[0;36m1\u001b[0m\u001b[0;34m\u001b[0m\u001b[0m\n\u001b[1;32m     10\u001b[0m         \u001b[0;32melse\u001b[0m\u001b[0;34m:\u001b[0m\u001b[0;34m\u001b[0m\u001b[0m\n\u001b[0;32m---> 11\u001b[0;31m             \u001b[0;32mraise\u001b[0m \u001b[0mStopIteration\u001b[0m\u001b[0;34m\u001b[0m\u001b[0m\n\u001b[0m\u001b[1;32m     12\u001b[0m \u001b[0;34m\u001b[0m\u001b[0m\n\u001b[1;32m     13\u001b[0m \u001b[0ms_iter1\u001b[0m \u001b[0;34m=\u001b[0m \u001b[0mSimpleIterator\u001b[0m\u001b[0;34m(\u001b[0m\u001b[0;36m3\u001b[0m\u001b[0;34m)\u001b[0m\u001b[0;34m\u001b[0m\u001b[0m\n",
      "\u001b[0;31mStopIteration\u001b[0m: "
     ]
    }
   ],
   "source": [
    "class SimpleIterator:\n",
    "    def __init__(self, limit):\n",
    "        self.limit = limit\n",
    "        self.counter = 0\n",
    "\n",
    "    def __next__(self):\n",
    "        if self.counter < self.limit:\n",
    "            self.counter += 1\n",
    "            return 1\n",
    "        else:\n",
    "            raise StopIteration\n",
    "\n",
    "s_iter1 = SimpleIterator(3)\n",
    "print(next(s_iter1))\n",
    "print(next(s_iter1))\n",
    "print(next(s_iter1))\n",
    "print(next(s_iter1))"
   ]
  },
  {
   "cell_type": "code",
   "execution_count": 31,
   "metadata": {},
   "outputs": [],
   "source": [
    "class SimpleIterator:\n",
    "    def __iter__(self):\n",
    "        return self\n",
    "\n",
    "    def __init__(self, limit):\n",
    "        self.limit = limit\n",
    "        self.counter = 0\n",
    "\n",
    "    def __next__(self):\n",
    "        if self.counter < self.limit:\n",
    "            self.counter += 1\n",
    "            return 1\n",
    "        else:\n",
    "            raise StopIteration"
   ]
  },
  {
   "cell_type": "code",
   "execution_count": null,
   "metadata": {},
   "outputs": [],
   "source": [
    "#TODO Написать итератор по csv файлу \n",
    "#В первой строке хранится header файл, нужно для каждой строки возвращать dict вида {\"column_name\": row_value}\n",
    "#гарантируется, что все имена столбцов различны\n",
    "class CSVIter:\n",
    "    \n",
    "    def __iter__(self):\n",
    "        pass\n",
    "    \n",
    "    def __init__(self, filename):\n",
    "        self.filename = filename\n",
    "        with open(self.filename, 'r') as f:\n",
    "            self.header = f.readline()\n",
    "    \n",
    "    def __next__(self):\n",
    "        pass"
   ]
  },
  {
   "cell_type": "markdown",
   "metadata": {},
   "source": [
    "# Functools"
   ]
  },
  {
   "cell_type": "code",
   "execution_count": 34,
   "metadata": {},
   "outputs": [],
   "source": [
    "#TODO Написать декоратор, выводящий время выполнения функции (просто print)\n",
    "from functools import wraps\n",
    "import time\n",
    "\n",
    "def time(func):\n",
    "    @wraps(func)\n",
    "    def _decorator(*args, **kwargs):\n",
    "        t = time.time()\n",
    "        res = foo(*args, **kwargs)\n",
    "        print(\"Elapsed time:\", time.time() - t)\n",
    "        return res\n",
    "    return _dec"
   ]
  },
  {
   "cell_type": "code",
   "execution_count": 35,
   "metadata": {},
   "outputs": [
    {
     "name": "stdout",
     "output_type": "stream",
     "text": [
      "[0, 1, 1, 2, 3, 5, 8, 13, 21, 34, 55, 89, 144, 233, 377, 610, 987, 1597, 2584, 4181, 6765, 10946, 17711, 28657, 46368, 75025, 121393, 196418, 317811, 514229, 832040, 1346269, 2178309, 3524578, 5702887, 9227465, 14930352, 24157817, 39088169, 63245986, 102334155, 165580141, 267914296, 433494437, 701408733, 1134903170, 1836311903, 2971215073, 4807526976, 7778742049, 12586269025, 20365011074, 32951280099, 53316291173, 86267571272, 139583862445, 225851433717, 365435296162, 591286729879, 956722026041, 1548008755920, 2504730781961, 4052739537881, 6557470319842, 10610209857723, 17167680177565, 27777890035288, 44945570212853, 72723460248141, 117669030460994, 190392490709135, 308061521170129, 498454011879264, 806515533049393, 1304969544928657, 2111485077978050, 3416454622906707, 5527939700884757, 8944394323791464, 14472334024676221, 23416728348467685, 37889062373143906, 61305790721611591, 99194853094755497, 160500643816367088, 259695496911122585, 420196140727489673, 679891637638612258, 1100087778366101931, 1779979416004714189, 2880067194370816120, 4660046610375530309, 7540113804746346429, 12200160415121876738, 19740274219868223167, 31940434634990099905, 51680708854858323072, 83621143489848422977, 135301852344706746049, 218922995834555169026]\n",
      "CacheInfo(hits=196, misses=100, maxsize=None, currsize=100)\n"
     ]
    }
   ],
   "source": [
    "#TODO Написать функцию расчета n-го числа фибоначчи (рекурсивно! а не по-правильному)\n",
    "\n",
    "from functools import lru_cache\n",
    "\n",
    "@lru_cache(maxsize=None)\n",
    "def fib(n):\n",
    "    if n == 0: return 0\n",
    "    if n == 1: return 1\n",
    "    return fib(n-1) + fib(n-2)\n",
    "    \n",
    "print([fib(n) for n in range(100)])\n",
    "print(fib.cache_info())"
   ]
  },
  {
   "cell_type": "code",
   "execution_count": null,
   "metadata": {},
   "outputs": [],
   "source": [
    "#TODO измерим время выполнения функции, если что-то лежит в кеше и без"
   ]
  },
  {
   "cell_type": "code",
   "execution_count": 36,
   "metadata": {},
   "outputs": [],
   "source": [
    "#TODO functools.reduce Вычесть из первого элемента все остальные элементы массива\n",
    "\n",
    "a = [100, 50, 40, 20]"
   ]
  },
  {
   "cell_type": "code",
   "execution_count": 38,
   "metadata": {},
   "outputs": [],
   "source": [
    "from functools import reduce"
   ]
  },
  {
   "cell_type": "code",
   "execution_count": 39,
   "metadata": {},
   "outputs": [
    {
     "data": {
      "text/plain": [
       "210"
      ]
     },
     "execution_count": 39,
     "metadata": {},
     "output_type": "execute_result"
    }
   ],
   "source": [
    "reduce(lambda acum, next_elem: acum + next_elem, a)"
   ]
  },
  {
   "cell_type": "markdown",
   "metadata": {},
   "source": [
    "# Collections"
   ]
  },
  {
   "cell_type": "code",
   "execution_count": 41,
   "metadata": {},
   "outputs": [
    {
     "name": "stdout",
     "output_type": "stream",
     "text": [
      "Counter({'counter': 3, 'spam': 2, 'egg': 1})\n",
      "3\n",
      "0\n",
      "<itertools.chain object at 0x103d16c50>\n",
      "[('counter', 3), ('spam', 2), ('egg', 1)]\n"
     ]
    }
   ],
   "source": [
    "#Counter\n",
    "import collections\n",
    "# даем последовательность, а Counter считает\n",
    "c = collections.Counter()\n",
    "for word in ['spam', 'egg', 'spam', 'counter', 'counter', 'counter']:\n",
    "    c[word] += 1\n",
    "\n",
    "#еще способ создания\n",
    "collections.Counter({'counter': 3, 'spam': 2, 'egg': 1})\n",
    "collections.Counter(['spam', 'egg', 'spam', 'counter', 'counter', 'counter'])\n",
    "    \n",
    "print(c)\n",
    "print(c['counter'])\n",
    "print(c['collections'])\n",
    "print(c.elements())\n",
    "print(c.most_common(3))"
   ]
  },
  {
   "cell_type": "code",
   "execution_count": 43,
   "metadata": {},
   "outputs": [
    {
     "name": "stdout",
     "output_type": "stream",
     "text": [
      "defaultdict(<class 'list'>, {})\n",
      "defaultdict(<class 'list'>, {0: [0], 1: [1], 2: [2], 3: [3], 4: [4]})\n"
     ]
    }
   ],
   "source": [
    "# ????\n",
    "defdict = collections.defaultdict(list)\n",
    "print(defdict)\n",
    "for i in range(5):\n",
    "    defdict[i].append(i)\n",
    "print(defdict)"
   ]
  },
  {
   "cell_type": "code",
   "execution_count": 44,
   "metadata": {},
   "outputs": [
    {
     "data": {
      "text/plain": [
       "1"
      ]
     },
     "execution_count": 44,
     "metadata": {},
     "output_type": "execute_result"
    }
   ],
   "source": [
    "# ???\n",
    "Point = collections.namedtuple('Point', ['x', 'y'])\n",
    "p = Point(x=1, y=2)\n",
    "Point(x=1, y=2)\n",
    "p.x"
   ]
  },
  {
   "cell_type": "code",
   "execution_count": 45,
   "metadata": {},
   "outputs": [],
   "source": [
    "#TODO создадим namedtuple человека (пол, возраст, язык программирования)"
   ]
  },
  {
   "cell_type": "code",
   "execution_count": 46,
   "metadata": {},
   "outputs": [],
   "source": [
    "from collections import deque"
   ]
  },
  {
   "cell_type": "code",
   "execution_count": 47,
   "metadata": {},
   "outputs": [],
   "source": [
    "deq = deque([1, 2, 3])"
   ]
  },
  {
   "cell_type": "code",
   "execution_count": 48,
   "metadata": {},
   "outputs": [
    {
     "name": "stdout",
     "output_type": "stream",
     "text": [
      "deque([1, 2, 3, 100])\n"
     ]
    }
   ],
   "source": [
    "deq.append(100)  # O(1)\n",
    "print(deq)"
   ]
  },
  {
   "cell_type": "code",
   "execution_count": 49,
   "metadata": {},
   "outputs": [
    {
     "name": "stdout",
     "output_type": "stream",
     "text": [
      "deque([-7, 1, 2, 3, 100])\n"
     ]
    }
   ],
   "source": [
    "deq.appendleft(-7)  # O(1)\n",
    "print(deq)"
   ]
  },
  {
   "cell_type": "markdown",
   "metadata": {},
   "source": [
    "# Itertools"
   ]
  },
  {
   "cell_type": "code",
   "execution_count": 50,
   "metadata": {},
   "outputs": [
    {
     "ename": "TypeError",
     "evalue": "unsupported operand type(s) for +: 'list_iterator' and 'list_iterator'",
     "output_type": "error",
     "traceback": [
      "\u001b[0;31m---------------------------------------------------------------------------\u001b[0m",
      "\u001b[0;31mTypeError\u001b[0m                                 Traceback (most recent call last)",
      "\u001b[0;32m<ipython-input-50-fff1a08227b5>\u001b[0m in \u001b[0;36m<module>\u001b[0;34m()\u001b[0m\n\u001b[1;32m      1\u001b[0m \u001b[0ma\u001b[0m \u001b[0;34m=\u001b[0m \u001b[0miter\u001b[0m\u001b[0;34m(\u001b[0m\u001b[0;34m[\u001b[0m\u001b[0;36m1\u001b[0m\u001b[0;34m,\u001b[0m \u001b[0;36m2\u001b[0m\u001b[0;34m,\u001b[0m \u001b[0;36m3\u001b[0m\u001b[0;34m]\u001b[0m\u001b[0;34m)\u001b[0m\u001b[0;34m\u001b[0m\u001b[0m\n\u001b[1;32m      2\u001b[0m \u001b[0mb\u001b[0m \u001b[0;34m=\u001b[0m \u001b[0miter\u001b[0m\u001b[0;34m(\u001b[0m\u001b[0;34m[\u001b[0m\u001b[0;36m4\u001b[0m\u001b[0;34m,\u001b[0m \u001b[0;36m5\u001b[0m\u001b[0;34m]\u001b[0m\u001b[0;34m)\u001b[0m\u001b[0;34m\u001b[0m\u001b[0m\n\u001b[0;32m----> 3\u001b[0;31m \u001b[0ma\u001b[0m \u001b[0;34m+\u001b[0m \u001b[0mb\u001b[0m\u001b[0;34m\u001b[0m\u001b[0m\n\u001b[0m",
      "\u001b[0;31mTypeError\u001b[0m: unsupported operand type(s) for +: 'list_iterator' and 'list_iterator'"
     ]
    }
   ],
   "source": [
    "a = iter([1, 2, 3])\n",
    "b = iter([4, 5])\n",
    "a + b"
   ]
  },
  {
   "cell_type": "code",
   "execution_count": 51,
   "metadata": {},
   "outputs": [
    {
     "name": "stdout",
     "output_type": "stream",
     "text": [
      "1\n",
      "2\n",
      "3\n",
      "4\n",
      "5\n"
     ]
    }
   ],
   "source": [
    "# Объединение итераторов\n",
    "from itertools import chain\n",
    "for x in chain(a, b):\n",
    "    print(x)"
   ]
  },
  {
   "cell_type": "code",
   "execution_count": 52,
   "metadata": {},
   "outputs": [
    {
     "name": "stdout",
     "output_type": "stream",
     "text": [
      "[('A', 'B', 'c'), ('A', 'c', 'B'), ('B', 'A', 'c'), ('B', 'c', 'A'), ('c', 'A', 'B'), ('c', 'B', 'A')]\n"
     ]
    }
   ],
   "source": [
    "# перестановки\n",
    "from itertools import permutations\n",
    "print(list(permutations('ABc')))"
   ]
  },
  {
   "cell_type": "code",
   "execution_count": 53,
   "metadata": {},
   "outputs": [
    {
     "data": {
      "text/plain": [
       "[('A', 'B'), ('A', 'C'), ('B', 'C')]"
      ]
     },
     "execution_count": 53,
     "metadata": {},
     "output_type": "execute_result"
    }
   ],
   "source": [
    "# сочетания без повторений\n",
    "from itertools import combinations\n",
    "list(combinations('ABC', 2))"
   ]
  },
  {
   "cell_type": "code",
   "execution_count": 54,
   "metadata": {},
   "outputs": [
    {
     "data": {
      "text/plain": [
       "[('A', 'A'), ('A', 'B'), ('A', 'C'), ('B', 'B'), ('B', 'C'), ('C', 'C')]"
      ]
     },
     "execution_count": 54,
     "metadata": {},
     "output_type": "execute_result"
    }
   ],
   "source": [
    "# сочетания c повторениями\n",
    "from itertools import combinations_with_replacement\n",
    "list(combinations_with_replacement('ABC', 2))"
   ]
  },
  {
   "cell_type": "code",
   "execution_count": 55,
   "metadata": {},
   "outputs": [
    {
     "name": "stdout",
     "output_type": "stream",
     "text": [
      "(1, 3, 5)\n",
      "(1, 3, 7)\n",
      "(1, 3, 8)\n",
      "(1, 4, 5)\n",
      "(1, 4, 7)\n",
      "(1, 4, 8)\n",
      "(2, 3, 5)\n",
      "(2, 3, 7)\n",
      "(2, 3, 8)\n",
      "(2, 4, 5)\n",
      "(2, 4, 7)\n",
      "(2, 4, 8)\n",
      "(3, 3, 5)\n",
      "(3, 3, 7)\n",
      "(3, 3, 8)\n",
      "(3, 4, 5)\n",
      "(3, 4, 7)\n",
      "(3, 4, 8)\n"
     ]
    }
   ],
   "source": [
    "# декартово произведение\n",
    "from itertools import product\n",
    "\n",
    "# Например, когда не знаешь глубину вложенного цикла\n",
    "n = 3\n",
    "cycles = [\n",
    "    [1, 2, 3],\n",
    "    [3, 4],\n",
    "    [5, 7, 8]\n",
    "]\n",
    "for indecies in product(*cycles):\n",
    "    print(indecies)"
   ]
  },
  {
   "cell_type": "code",
   "execution_count": null,
   "metadata": {},
   "outputs": [],
   "source": []
  },
  {
   "cell_type": "code",
   "execution_count": 56,
   "metadata": {},
   "outputs": [],
   "source": [
    "# данные key - value\n",
    "from itertools import groupby\n",
    "data = [\n",
    "    ('Factory A', 'day 1', 100),\n",
    "    ('Factory B', 'day 1', 200),\n",
    "    ('Factory C', 'day 1', 300),\n",
    "    \n",
    "    ('Factory A', 'day 2', 175),\n",
    "    ('Factory B', 'day 2', 115),\n",
    "    ('Factory C', 'day 2', 100),\n",
    "    \n",
    "    ('Factory A', 'day 3', 500),\n",
    "    ('Factory B', 'day 3', 800),\n",
    "    ('Factory C', 'day 3', 1000)\n",
    "]"
   ]
  },
  {
   "cell_type": "code",
   "execution_count": 63,
   "metadata": {},
   "outputs": [
    {
     "name": "stdout",
     "output_type": "stream",
     "text": [
      "day 1 <itertools._grouper object at 0x103d20cf8>\n",
      "day 2 <itertools._grouper object at 0x103d20c50>\n",
      "day 3 <itertools._grouper object at 0x103d20cf8>\n"
     ]
    }
   ],
   "source": [
    "# Сколько товара все фабрики произвели за каждый день\n",
    "for (key, values) in groupby(data, lambda x: x[1]):\n",
    "    print(key, values)"
   ]
  },
  {
   "cell_type": "code",
   "execution_count": 64,
   "metadata": {},
   "outputs": [
    {
     "name": "stdout",
     "output_type": "stream",
     "text": [
      "day 1 : 600\n",
      "day 2 : 390\n",
      "day 3 : 2300\n"
     ]
    }
   ],
   "source": [
    "for (key, values) in groupby(data, lambda x: x[1]):\n",
    "    s = 0\n",
    "    for v in values:\n",
    "        s += v[2]\n",
    "    print(key, ':', s)"
   ]
  },
  {
   "cell_type": "code",
   "execution_count": 65,
   "metadata": {},
   "outputs": [
    {
     "name": "stdout",
     "output_type": "stream",
     "text": [
      "Factory A : 100\n",
      "Factory B : 200\n",
      "Factory C : 300\n",
      "Factory A : 175\n",
      "Factory B : 115\n",
      "Factory C : 100\n",
      "Factory A : 500\n",
      "Factory B : 800\n",
      "Factory C : 1000\n"
     ]
    }
   ],
   "source": [
    "# Сколько каждая фабрика произвела за все дни\n",
    "for (key, values) in groupby(data, lambda x: x[0]):\n",
    "    print(key, ':', sum([v[2] for v in values]))"
   ]
  },
  {
   "cell_type": "code",
   "execution_count": 66,
   "metadata": {},
   "outputs": [
    {
     "data": {
      "text/plain": [
       "[1, 4, 9, 16, 25, 36, 49]"
      ]
     },
     "execution_count": 66,
     "metadata": {},
     "output_type": "execute_result"
    }
   ],
   "source": [
    "#TODO Посчитаем суммы последовательных элементов hint accumulate\n",
    "from itertools import accumulate\n",
    "inp_arr = [1, 3, 5, 7, 9, 11, 13]\n",
    "list(accumulate(inp_arr))"
   ]
  },
  {
   "cell_type": "code",
   "execution_count": null,
   "metadata": {},
   "outputs": [],
   "source": []
  },
  {
   "cell_type": "code",
   "execution_count": null,
   "metadata": {},
   "outputs": [],
   "source": []
  },
  {
   "cell_type": "code",
   "execution_count": null,
   "metadata": {},
   "outputs": [],
   "source": []
  }
 ],
 "metadata": {
  "anaconda-cloud": {},
  "kernelspec": {
   "display_name": "Python 3",
   "language": "python",
   "name": "python3"
  },
  "language_info": {
   "codemirror_mode": {
    "name": "ipython",
    "version": 3
   },
   "file_extension": ".py",
   "mimetype": "text/x-python",
   "name": "python",
   "nbconvert_exporter": "python",
   "pygments_lexer": "ipython3",
   "version": "3.6.5"
  }
 },
 "nbformat": 4,
 "nbformat_minor": 2
}
